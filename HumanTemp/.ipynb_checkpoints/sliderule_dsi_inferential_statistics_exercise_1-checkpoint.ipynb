{
 "cells": [
  {
   "cell_type": "markdown",
   "metadata": {},
   "source": [
    "# What is the True Normal Human Body Temperature? \n",
    "\n",
    "#### Background\n",
    "\n",
    "The mean normal body temperature was held to be 37$^{\\circ}$C or 98.6$^{\\circ}$F for more than 120 years since it was first conceptualized and reported by Carl Wunderlich in a famous 1868 book. But, is this value statistically correct?"
   ]
  },
  {
   "cell_type": "markdown",
   "metadata": {},
   "source": [
    "<h3>Exercises</h3>\n",
    "\n",
    "<p>In this exercise, you will analyze a dataset of human body temperatures and employ the concepts of hypothesis testing, confidence intervals, and statistical significance.</p>\n",
    "\n",
    "<p>Answer the following questions <b>in this notebook below and submit to your Github account</b>.</p> \n",
    "\n",
    "<ol>\n",
    "<li>  Is the distribution of body temperatures normal? \n",
    "    <ul>\n",
    "    <li> Although this is not a requirement for the Central Limit Theorem to hold (read the introduction on Wikipedia's page about the CLT carefully: https://en.wikipedia.org/wiki/Central_limit_theorem), it gives us some peace of mind that the population may also be normally distributed if we assume that this sample is representative of the population.\n",
    "    <li> Think about the way you're going to check for the normality of the distribution. Graphical methods are usually used first, but there are also other ways: https://en.wikipedia.org/wiki/Normality_test\n",
    "    </ul>\n",
    "<li>  Is the sample size large? Are the observations independent?\n",
    "    <ul>\n",
    "    <li> Remember that this is a condition for the Central Limit Theorem, and hence the statistical tests we are using, to apply.\n",
    "    </ul>\n",
    "<li>  Is the true population mean really 98.6 degrees F?\n",
    "    <ul>\n",
    "    <li> First, try a bootstrap hypothesis test.\n",
    "    <li> Now, let's try frequentist statistical testing. Would you use a one-sample or two-sample test? Why?\n",
    "    <li> In this situation, is it appropriate to use the $t$ or $z$ statistic? \n",
    "    <li> Now try using the other test. How is the result be different? Why?\n",
    "    </ul>\n",
    "<li>  Draw a small sample of size 10 from the data and repeat both frequentist tests. \n",
    "    <ul>\n",
    "    <li> Which one is the correct one to use? \n",
    "    <li> What do you notice? What does this tell you about the difference in application of the $t$ and $z$ statistic?\n",
    "    </ul>\n",
    "<li>  At what temperature should we consider someone's temperature to be \"abnormal\"?\n",
    "    <ul>\n",
    "    <li> As in the previous example, try calculating everything using the boostrap approach, as well as the frequentist approach.\n",
    "    <li> Start by computing the margin of error and confidence interval. When calculating the confidence interval, keep in mind that you should use the appropriate formula for one draw, and not N draws.\n",
    "    </ul>\n",
    "<li>  Is there a significant difference between males and females in normal temperature?\n",
    "    <ul>\n",
    "    <li> What testing approach did you use and why?\n",
    "    <li> Write a story with your conclusion in the context of the original problem.\n",
    "    </ul>\n",
    "</ol>\n",
    "\n",
    "You can include written notes in notebook cells using Markdown: \n",
    "   - In the control panel at the top, choose Cell > Cell Type > Markdown\n",
    "   - Markdown syntax: http://nestacms.com/docs/creating-content/markdown-cheat-sheet\n",
    "\n",
    "#### Resources\n",
    "\n",
    "+ Information and data sources: http://www.amstat.org/publications/jse/datasets/normtemp.txt, http://www.amstat.org/publications/jse/jse_data_archive.htm\n",
    "+ Markdown syntax: http://nestacms.com/docs/creating-content/markdown-cheat-sheet\n",
    "\n",
    "****"
   ]
  },
  {
   "cell_type": "code",
   "execution_count": 3,
   "metadata": {},
   "outputs": [],
   "source": [
    "import pandas as pd\n",
    "import numpy as np\n",
    "import matplotlib.pyplot as plt\n",
    "from scipy import stats\n",
    "import math as mt\n",
    "from scipy.stats import sem, t\n",
    "from scipy import mean\n",
    "from statsmodels.stats import weightstats as stests"
   ]
  },
  {
   "cell_type": "code",
   "execution_count": 53,
   "metadata": {},
   "outputs": [],
   "source": [
    "# Function for creating Empirical Cummulative Density Function\n",
    "def ecdf(data):\n",
    "    \"\"\"Compute ECDF for a one-dimensional array of measurements.\"\"\"\n",
    "    # Number of data points: n\n",
    "    n = len(data)\n",
    "\n",
    "    # x-data for the ECDF: x\n",
    "    x = np.sort(data)\n",
    "\n",
    "    # y-data for the ECDF: y\n",
    "    y = np.arange(1, n+1) / n\n",
    "\n",
    "    return x, y\n",
    "\n",
    "def bootstrap_replicate_1d(data, func):\n",
    "    \"\"\"Generate bootstrap replicate of 1D data.\"\"\"\n",
    "    bs_sample = np.random.choice(data, len(data))\n",
    "    return func(bs_sample)\n",
    "\n",
    "#for drawing bootstrap replicates\n",
    "def draw_bs_replicate(data, func, size=1):\n",
    "    \"\"\"Draw bootstrap replicates.\"\"\"\n",
    "\n",
    "    # Initialize array of replicates: bs_replicates\n",
    "    bs_replicates = np.empty(size)\n",
    "\n",
    "    # Generate replicates\n",
    "    for i in range(size):\n",
    "        bs_replicates[i] = func(np.random.choice(data, size=len(data)))\n",
    "\n",
    "    return bs_replicates\n"
   ]
  },
  {
   "cell_type": "code",
   "execution_count": 5,
   "metadata": {},
   "outputs": [
    {
     "name": "stdout",
     "output_type": "stream",
     "text": [
      "98.24923076923078\n",
      "0.7331831580389454\n"
     ]
    }
   ],
   "source": [
    "#Load original data\n",
    "df = pd.read_csv('data/human_body_temperature.csv')\n",
    "\n",
    "#Calculate mean and standard deviation of temperature\n",
    "t_mean = df['temperature'].mean()\n",
    "t_std = df['temperature'].std()\n",
    "\n",
    "print(t_mean)\n",
    "print(t_std)\n"
   ]
  },
  {
   "cell_type": "markdown",
   "metadata": {},
   "source": [
    "# Is the distribution of body temperatures normal?\n",
    "To Answer this question, we will \n",
    "1. Plot an histogram of the data to visualize the data\n",
    "2. Compare the ECDF of the actual data and that of a theoretical normal data with the same mean and std."
   ]
  },
  {
   "cell_type": "code",
   "execution_count": 6,
   "metadata": {},
   "outputs": [
    {
     "data": {
      "image/png": "[encoded data removed]",
      "text/plain": [
       "<Figure size 432x288 with 1 Axes>"
      ]
     },
     "metadata": {
      "needs_background": "light"
     },
     "output_type": "display_data"
    }
   ],
   "source": [
    "_ = plt.hist(df['temperature'], bins=20, density=True)\n",
    "x = np.linspace(t_mean - 3*t_std, t_mean + 3*t_std, 100)\n",
    "y = stats.norm.pdf(x, t_mean, t_std)\n",
    "plt.plot(x,y)\n",
    "\n",
    "_ = plt.xlabel('Temperature (F)')\n",
    "_ = plt.ylabel('PDF')\n",
    "_ = plt.title('Actual Temprature Data vs Normal Distribution')\n",
    "plt.show()\n",
    "\n"
   ]
  },
  {
   "cell_type": "markdown",
   "metadata": {},
   "source": [
    "When compared to a normal distrubution, the histogram of the raw temperature data is approximately normal. But we will still go ahead to confirm this using ECDF with bootstrapped data delow."
   ]
  },
  {
   "cell_type": "code",
   "execution_count": 7,
   "metadata": {},
   "outputs": [],
   "source": [
    "#Create an empirical sample with the same mean and standard dev as the data\n",
    "samples = np.random.normal(t_mean, t_std, size=100000)\n",
    "\n",
    "#Create ECDF for the raw and the bootstapped data\n",
    "x_theor, y_theor = ecdf(samples)\n",
    "x_emp,y_emp = ecdf(df['temperature'])\n"
   ]
  },
  {
   "cell_type": "code",
   "execution_count": 8,
   "metadata": {},
   "outputs": [
    {
     "data": {
      "image/png": "[encoded data removed]",
      "text/plain": [
       "<Figure size 432x288 with 1 Axes>"
      ]
     },
     "metadata": {
      "needs_background": "light"
     },
     "output_type": "display_data"
    }
   ],
   "source": [
    "# Plot the ECDFs and show the plot\n",
    "_ = plt.plot(x_theor, y_theor)\n",
    "_ = plt.plot(x_emp, y_emp, marker='.', linestyle='none')\n",
    "_ = plt.xlabel('Temperature')\n",
    "_ = plt.ylabel('CDF')\n",
    "plt.show()\n"
   ]
  },
  {
   "cell_type": "markdown",
   "metadata": {},
   "source": [
    "The graph shows that the temprature data is approximately normally distributed because the empirical cummulative density\n",
    "function follows the ecdf of the empirical normally distributed data created based on the mean and the std of the temprature\n",
    "data."
   ]
  },
  {
   "cell_type": "markdown",
   "metadata": {},
   "source": [
    "# Is the sample size large? Are the observations independent?"
   ]
  },
  {
   "cell_type": "markdown",
   "metadata": {},
   "source": [
    "1. The data is normally distributed as indicated above\n",
    "2. The number of observations is greater than 30 (130)\n",
    "3. It is assumed that the the observations are independent of each other since the data is assumed to be collected from different individuals"
   ]
  },
  {
   "cell_type": "markdown",
   "metadata": {},
   "source": [
    "# Is the true population mean really 98.6 degrees F?\n",
    "\n",
    "To answer this question, first, the ecdf of the raw data will be compared to the ECDF of 100 bootstrap samples. Thereafter a confidence interval, based on 10000 bootstrap replicates of the temperature mean will be used to create a 95% confidence interval to see if population mean falls in the range. Lastly, an bootstap hypotesis will be tested.\n",
    "\n",
    "H0: Population Mean = 98.6\n",
    "H1: Population Mean <> 98.6"
   ]
  },
  {
   "cell_type": "code",
   "execution_count": 9,
   "metadata": {},
   "outputs": [
    {
     "data": {
      "text/plain": [
       "98.17076923076924"
      ]
     },
     "execution_count": 9,
     "metadata": {},
     "output_type": "execute_result"
    }
   ],
   "source": [
    "boot_samples = np.random.choice(df['temperature'], size=130)\n",
    "np.mean(boot_samples)"
   ]
  },
  {
   "cell_type": "code",
   "execution_count": 10,
   "metadata": {
    "scrolled": true
   },
   "outputs": [
    {
     "data": {
      "image/png": "[encoded data removed]",
      "text/plain": [
       "<Figure size 432x288 with 1 Axes>"
      ]
     },
     "metadata": {
      "needs_background": "light"
     },
     "output_type": "display_data"
    }
   ],
   "source": [
    "# Compare the ecdf of actual temperature data to that of 50 bootstrap samples\n",
    "for _ in range(100):  \n",
    "    # Generate bootstrap sample: bs_sample  \n",
    "    bs_sample = np.random.choice(df['temperature'], size=130) \n",
    "    \n",
    "    # Compute and plot ECDF from bootstrap sample\n",
    "    x, y = ecdf(bs_sample)\n",
    "    \n",
    "    _ = plt.plot(x, y, marker='.', linestyle='none', color='red', alpha=0.05)\n",
    "\n",
    "# Compute and plot ECDF from original data\n",
    "x, y = ecdf(df['temperature'])\n",
    "_ = plt.plot(x, y, marker='.')\n",
    "\n",
    "# Make margins and label axes\n",
    "plt.margins(0.02)\n",
    "_ = plt.xlabel('Temperature(F)')\n",
    "_ = plt.ylabel('ECDF')\n",
    "\n",
    "# Show the plot\n",
    "plt.show()"
   ]
  },
  {
   "cell_type": "markdown",
   "metadata": {},
   "source": [
    "We can then create a bootstrap replicate of the mean in order to check the confidence interval for the mean of the temperature"
   ]
  },
  {
   "cell_type": "code",
   "execution_count": 52,
   "metadata": {},
   "outputs": [],
   "source": [
    "#bootstrap_replicate_1d(df['temperature'], np.mean)"
   ]
  },
  {
   "cell_type": "code",
   "execution_count": 11,
   "metadata": {},
   "outputs": [
    {
     "name": "stdout",
     "output_type": "stream",
     "text": [
      "Confidence Interval: 98.12 - 98.37\n"
     ]
    }
   ],
   "source": [
    "#Now we can create and plot multiple bootstrap replicate of the mean\n",
    "bs_replicates = np.empty(10000)\n",
    "\n",
    "for i in range(10000):\n",
    "     bs_replicates[i] = bootstrap_replicate_1d(df['temperature'], np.mean)\n",
    "        \n",
    "conf = np.percentile(bs_replicates, [2.5, 97.5])\n",
    "llimit = conf[0]\n",
    "ulimit = conf[1]\n",
    "\n",
    "print('Confidence Interval: ' + '{:4.2f}'.format(llimit) + ' - ' + '{:4.2f}'.format(ulimit))"
   ]
  },
  {
   "cell_type": "markdown",
   "metadata": {},
   "source": [
    "Based on the bootstapping experiment, it can be concluded that there is a chance that the human temperature mean will be found to be between 98.12 and 98.38 95% of the time of the experiement is repeated again and again. \n",
    "\n",
    "To further prove this, we will now plot a normalized histogram of the bootstrap replicates of the human temprature mean showing boundaries that indicate the confidence interval and where the hypothesized population mean falls in the graph below"
   ]
  },
  {
   "cell_type": "code",
   "execution_count": 12,
   "metadata": {},
   "outputs": [
    {
     "data": {
      "image/png": "[encoded data removed]",
      "text/plain": [
       "<Figure size 432x288 with 1 Axes>"
      ]
     },
     "metadata": {
      "needs_background": "light"
     },
     "output_type": "display_data"
    }
   ],
   "source": [
    "_ = plt.hist(bs_replicates, bins=30, density=True)\n",
    "_ = plt.xlabel('Temperature')\n",
    "_ = plt.ylabel('PDF')\n",
    "_ = plt.axvline(llimit, color='yellow')\n",
    "_ = plt.axvline(ulimit, color='yellow')\n",
    "#_ = plt.axvline(98.6, color='red')\n",
    "_ = plt.plot(98.6, 0.0, 'ro')\n",
    "_ = plt.annotate('98.6 F', xy=(98.6, .01), xytext=(98.4, 1), arrowprops=dict(facecolor='black', shrink=0.05))\n",
    "plt.show()"
   ]
  },
  {
   "cell_type": "markdown",
   "metadata": {},
   "source": [
    "#### The graph shows that the 98.6 is completely outside the Confidence Interval Range, hence we reject the H0 that the population mean is 98.6\n",
    "\n",
    "It has been established above that the data is normal. So, to use a frequestist approach to test the hypotesis, a z-test will be appropriate. However, because the standard deviation of the population is unknown, it will be estimated using the std deviation of the sample divided by the square root of the number of samples. \n",
    "\n",
    "Thereafter the p value can be obtained by looking for the area under the normal curve where the z statistics falls using the cummulative density function"
   ]
  },
  {
   "cell_type": "code",
   "execution_count": 13,
   "metadata": {},
   "outputs": [
    {
     "name": "stdout",
     "output_type": "stream",
     "text": [
      "4.90215701411338e-08\n"
     ]
    }
   ],
   "source": [
    "zstat = (t_mean - 98.6)/(t_std/mt.sqrt(len(df)))  \n",
    "\n",
    "pval =stats.norm.cdf(zstat)*2\n",
    "print(pval)"
   ]
  },
  {
   "cell_type": "markdown",
   "metadata": {},
   "source": [
    "Thus, we can reject the null hypothesis that the population mean is 98.6 because the p value is less that 0.05\n",
    "\n",
    "This test is repeated below using the t test."
   ]
  },
  {
   "cell_type": "code",
   "execution_count": 14,
   "metadata": {},
   "outputs": [
    {
     "name": "stdout",
     "output_type": "stream",
     "text": [
      "98.12200290560804\n",
      "98.37645863285351\n"
     ]
    }
   ],
   "source": [
    "confidence = 0.95\n",
    "\n",
    "n = len(df['temperature'])\n",
    "m = mean(df['temperature'])\n",
    "std_err = sem(df['temperature'])\n",
    "h = std_err * t.ppf((1 + confidence) / 2, n - 1)\n",
    "\n",
    "start = m - h\n",
    "end = m + h\n",
    "\n",
    "print (start)\n",
    "print (end)"
   ]
  },
  {
   "cell_type": "code",
   "execution_count": 15,
   "metadata": {
    "scrolled": false
   },
   "outputs": [
    {
     "data": {
      "text/plain": [
       "Ttest_1sampResult(statistic=-5.4548232923645195, pvalue=2.4106320415561276e-07)"
      ]
     },
     "execution_count": 15,
     "metadata": {},
     "output_type": "execute_result"
    }
   ],
   "source": [
    "#To test the Hypothesis H0: Population mean = 98.6\n",
    "#This is a two-sided test one sample t-test because we are testing the mean of the population against a known mean\n",
    "\n",
    "stats.ttest_1samp(df['temperature'], 98.6)"
   ]
  },
  {
   "cell_type": "markdown",
   "metadata": {},
   "source": [
    "The result of the two-sided One sample T-test also indicate that the null Hypothesis that population mean is 98.6 should be rejected. \n",
    "\n",
    "This result shows that although the most appropriate test is the z test because of the number of observations, however it also suggests that the t-test tends toward the same result as the nbormal distribution."
   ]
  },
  {
   "cell_type": "markdown",
   "metadata": {},
   "source": [
    "# Draw a small sample of size 10 from the data and repeat both frequentist tests."
   ]
  },
  {
   "cell_type": "markdown",
   "metadata": {},
   "source": [
    "Because the sample size will be less than 30, the right test to use here will be the t statistic, however both will be compared as required"
   ]
  },
  {
   "cell_type": "code",
   "execution_count": 16,
   "metadata": {},
   "outputs": [],
   "source": [
    "# Randomely select 10 samples\n",
    "sample10 = np.random.choice(df['temperature'], 10)"
   ]
  },
  {
   "cell_type": "code",
   "execution_count": 17,
   "metadata": {},
   "outputs": [
    {
     "data": {
      "text/plain": [
       "Ttest_1sampResult(statistic=-0.7733307488907629, pvalue=0.4591554986262797)"
      ]
     },
     "execution_count": 17,
     "metadata": {},
     "output_type": "execute_result"
    }
   ],
   "source": [
    "#t-test\n",
    "stats.ttest_1samp(sample10, 98.6)"
   ]
  },
  {
   "cell_type": "code",
   "execution_count": 18,
   "metadata": {},
   "outputs": [
    {
     "name": "stdout",
     "output_type": "stream",
     "text": [
      "p-value is: 0.4393266624640211\n",
      "\n"
     ]
    }
   ],
   "source": [
    "ztst =stests.ztest(sample10,value=98.6)\n",
    "\n",
    "pValue=ztst[1]\n",
    "print(\"p-value is: \"+str(pValue))\n",
    "print(\"\")"
   ]
  },
  {
   "cell_type": "markdown",
   "metadata": {},
   "source": [
    "Using a smaller sample of n =10 the result of both the t-test and the z-test resulted in a p-value that is greater that 0.05\n",
    "suggesting that we do not reject H0 that the true population mean is 98.6.\n",
    "\n",
    "This suggests that both t-test and z-test produced approximated the same result."
   ]
  },
  {
   "cell_type": "markdown",
   "metadata": {},
   "source": [
    "# At what temperature should we consider someone's temperature to be \"abnormal\"?"
   ]
  },
  {
   "cell_type": "markdown",
   "metadata": {},
   "source": [
    "The body temperature of someone will be considered to the abnormal if it outside of the confidence interval. Since the data is assumed normal above, the confidence interval of the sample provided will show the lower and upper limits outside of which a temperature will be considered abnormal."
   ]
  },
  {
   "cell_type": "code",
   "execution_count": 19,
   "metadata": {
    "scrolled": true
   },
   "outputs": [
    {
     "data": {
      "text/plain": [
       "(96.81221818540311, 99.68624335305844)"
      ]
     },
     "execution_count": 19,
     "metadata": {},
     "output_type": "execute_result"
    }
   ],
   "source": [
    "# We can compute the confidence interval from the original sample data\n",
    "stats.norm.interval(0.95, loc=t_mean, scale=t_std)"
   ]
  },
  {
   "cell_type": "markdown",
   "metadata": {},
   "source": [
    "Based on the results above, any temperature reading that is less that 96.81 or greater than 99.67 should be considered abnormal based on the 130 samples presented in the raw data. However, may not be the best representation since it is based on only 130 observations. THowever, we can use the bootstrap concept to create the means of several samples and then find the confidence interval of the means. This should give a better representation of what to expect in a larger population."
   ]
  },
  {
   "cell_type": "code",
   "execution_count": 25,
   "metadata": {},
   "outputs": [
    {
     "name": "stdout",
     "output_type": "stream",
     "text": [
      "Confidence interval is [98.12228846153843, 98.37769230769231].\n"
     ]
    }
   ],
   "source": [
    "# This can also be computed using the bootstrap approach\n",
    "bstrap_mean = draw_bs_replicate(df['temperature'], np.mean, 10000)\n",
    "bstrap_ci = np.percentile(bstrap_mean, [2.5, 97.5])\n",
    "print('Confidence interval is ['+str(bstrap_ci[0])+\", \"+str(bstrap_ci[1])+\"].\")"
   ]
  },
  {
   "cell_type": "markdown",
   "metadata": {},
   "source": [
    "The bootstrap replicate shows that at 95% confidence interval, a temperature below 98.12 or higher that 98.38 should be considered abnormal."
   ]
  },
  {
   "cell_type": "markdown",
   "metadata": {},
   "source": [
    "# Is there a significant difference between males and females in normal temperature?\n",
    "\n",
    "To answer this question we need to compare the temperature of the Male and the female population. Hence we set the null hypothesis that Body Temperature of the Male population is equal to the Body Temperature of the Female population. Firstly, we will compare the empirical cummulative distribution function (ECDF) of the two group and then carry out a 2 sample hypothesis test."
   ]
  },
  {
   "cell_type": "code",
   "execution_count": 58,
   "metadata": {
    "scrolled": true
   },
   "outputs": [
    {
     "name": "stdout",
     "output_type": "stream",
     "text": [
      "Male - Mean = 98.1046153846154\n",
      "Male Standard Deviation = 0.6933598841828696\n",
      "Female - Mean = 98.39384615384613\n",
      "Female Standard Deviation = 0.7377464486428966\n",
      "Difference in Mean = 0.289230769230727\n"
     ]
    }
   ],
   "source": [
    "M_temp = df['temperature'][df['gender'] == 'M']\n",
    "F_temp = df['temperature'][df['gender'] == 'F']\n",
    "M_mean = np.mean(M_temp)\n",
    "M_std = np.std(M_temp)\n",
    "F_mean = np.mean(F_temp)\n",
    "F_std = np.std(F_temp)\n",
    "\n",
    "\n",
    "\n",
    "diff_mean = F_mean - M_mean\n",
    "\n",
    "print('Male - Mean = ' + str(M_mean))\n",
    "print('Male Standard Deviation = ' + str(M_std))\n",
    "\n",
    "print('Female - Mean = ' + str(F_mean))\n",
    "print('Female Standard Deviation = ' + str(F_std))\n",
    "\n",
    "print('Difference in Mean = ' + str(diff_mean))"
   ]
  },
  {
   "cell_type": "markdown",
   "metadata": {},
   "source": [
    "The means and standard deviations of the two populations are not the same. This is important because it will determine how the hypotesis testing can be carried out."
   ]
  },
  {
   "cell_type": "code",
   "execution_count": 38,
   "metadata": {
    "scrolled": false
   },
   "outputs": [
    {
     "data": {
      "image/png": "[encoded data removed]",
      "text/plain": [
       "<Figure size 432x288 with 1 Axes>"
      ]
     },
     "metadata": {
      "needs_background": "light"
     },
     "output_type": "display_data"
    }
   ],
   "source": [
    "#Create an empirical sample with the same mean and standard dev as the data\n",
    "msamples = np.random.normal(M_mean, M_std, size=100000)\n",
    "fsamples = np.random.normal(F_mean, F_std, size=100000)\n",
    "\n",
    "#Create ECDF for males and the bootstapped data\n",
    "mx_theor, my_theor = ecdf(msamples)\n",
    "mx_emp,my_emp = ecdf(M_temp )\n",
    "\n",
    "#Create ECDF for female and the bootstapped data\n",
    "fx_theor, fy_theor = ecdf(fsamples)\n",
    "fx_emp,fy_emp = ecdf(F_temp )\n",
    "\n",
    "\n",
    "# Plot the ECDFs and show the plot\n",
    "_ = plt.plot(mx_theor, my_theor, label='Male - Theoretical')\n",
    "_ = plt.plot(mx_emp, my_emp, marker='.', linestyle='none', label='Male - Sample')\n",
    "\n",
    "_ = plt.plot(fx_theor, fy_theor, label='Female - Theoretical')\n",
    "_ = plt.plot(fx_emp, fy_emp, marker='.', linestyle='none', label='Female - Sample')\n",
    "_ = plt.xlabel('Temperature')\n",
    "_ = plt.ylabel('CDF')\n",
    "_ = plt.legend()\n",
    "plt.show()"
   ]
  },
  {
   "cell_type": "markdown",
   "metadata": {},
   "source": [
    "The plot above indicate that the theorectical and the empirical cummulative distribution functions for the male population is different from that of the female population. This suggests that there is a significant difference in the temperature of the two populations. We will not use a 2 sample z test to confirm this by testing the null hypothesis H0: mean of male = mean of female."
   ]
  },
  {
   "cell_type": "code",
   "execution_count": 66,
   "metadata": {},
   "outputs": [
    {
     "name": "stdout",
     "output_type": "stream",
     "text": [
      "Two sample Z statistic = 2.303, p-value = 0.0213\n"
     ]
    }
   ],
   "source": [
    "def twoSampZ(X1, X2, mudiff, sd1, sd2, n1, n2):\n",
    "    from numpy import sqrt, abs, round\n",
    "    from scipy.stats import norm\n",
    "    pooledSE = sqrt(sd1**2/n1 + sd2**2/n2)\n",
    "    z = ((X1 - X2) - mudiff)/pooledSE\n",
    "    pval = 2*(1 - norm.cdf(abs(z)))\n",
    "    return round(z, 3), round(pval, 4)\n",
    "   \n",
    "\n",
    "z_result = twoSampZ(F_mean, M_mean, 0, M_std, F_std, len(M_temp), len(F_temp))\n",
    "print('Two sample Z statistic = ' + str(z_result[0]) + ', p-value = ' + str(z_result[1]))"
   ]
  },
  {
   "cell_type": "markdown",
   "metadata": {},
   "source": []
  }
 ],
 "metadata": {
  "kernelspec": {
   "display_name": "Python 3",
   "language": "python",
   "name": "python3"
  },
  "language_info": {
   "codemirror_mode": {
    "name": "ipython",
    "version": 3
   },
   "file_extension": ".py",
   "mimetype": "text/x-python",
   "name": "python",
   "nbconvert_exporter": "python",
   "pygments_lexer": "ipython3",
   "version": "3.7.1"
  }
 },
 "nbformat": 4,
 "nbformat_minor": 1
}
