{
 "cells": [
  {
   "cell_type": "markdown",
   "metadata": {},
   "source": [
    "#### Introduction\n",
    "The neighboring cities of Gotham and Metropolis have complementary circadian rhythms: on weekdays, Ultimate Gotham is most active at night, and Ultimate Metropolis is most active during the day. On weekends, there is reasonable activity in both cities.\n",
    "\n",
    "However, a toll bridge, with a two way toll, between the two cities causes driver partners to tend to be exclusive to each city. The Ultimate managers of city operations for the two cities have proposed an experiment to encourage driver partners to be available in both cities, by reimbursing all toll costs."
   ]
  },
  {
   "cell_type": "markdown",
   "metadata": {},
   "source": [
    "#### Key measure of success in encouraging drivers to server both cities"
   ]
  },
  {
   "cell_type": "markdown",
   "metadata": {},
   "source": [
    "It is understood that Gotham is more active at night and Metropolis during the day. So, the goal will be to have just the right number of drivers in both cities during the day and in the night. Therefore, the business problem can be described as find an equilibrum between demand and supply for both cities at all times. Hence the key measure of success in encouraging drivers should include:\n",
    "\n",
    "1. Demand does not outweigh supply: This is because profitability is first dependent on taking all the businesses that are available.\n",
    "\n",
    "2. The profitability of each crossing: Each crossing of the bridge attracts a sunk cost. Hence, the forecasted perceived value that a driver can bring must be more than that addition cost. "
   ]
  },
  {
   "cell_type": "markdown",
   "metadata": {},
   "source": [
    "#### Experimental Design"
   ]
  },
  {
   "cell_type": "markdown",
   "metadata": {},
   "source": [
    "The focus of this experiment will be to identify the right time, the right number of driver to send across, in order to meet demands that will bring the right amount of profits despite the tolls that need to be paid.\n",
    "\n",
    "To achieve this, a real-time invitations would be sent to a selected number of driver that will most likely go over the bridge. Hence, the first thing to do will be to create a poll of drivers that respond to incentives by creating different challenge based incentives and noting the characteristics of those that respond. A logistic regresion can be used to identify the characteristics of each responses.\n",
    "\n",
    "Secondly, At peak hours in both cities, identified drivers in the other cities can be invited to move to the other city for an opportunity to make more money and paid toll. Thereafter, a t-test can be used to (a) test to compare the net income of drivers that crossed to the other city to income of driver that were invited but did not cross over or similar drivers (by type of car, location, normal average hourly income) that were not invited. This will give an indication of whether it was profitable to ask the drivers to cross the bridge. \n",
    "\n",
    "Thirdly, an experiement should be setup to know the optimal amount of driver to send across the bridge to ensure a demand and supply equilibrum. This is important because we do not know how many drivers will heed the call and if there will be enough demand to sustain the supply of drivers. This measure of equilibrum should be based on an hourly collection of data on supply i.e number of drivers that responded to invitation and demand (number of request from riders)."
   ]
  }
 ],
 "metadata": {
  "kernelspec": {
   "display_name": "Python 3",
   "language": "python",
   "name": "python3"
  },
  "language_info": {
   "codemirror_mode": {
    "name": "ipython",
    "version": 3
   },
   "file_extension": ".py",
   "mimetype": "text/x-python",
   "name": "python",
   "nbconvert_exporter": "python",
   "pygments_lexer": "ipython3",
   "version": "3.7.1"
  }
 },
 "nbformat": 4,
 "nbformat_minor": 2
}
